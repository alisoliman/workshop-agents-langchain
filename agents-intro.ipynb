{
  "cells": [
    {
      "attachments": {},
      "cell_type": "markdown",
      "metadata": {
        "id": "nEM8P_2rp2tC"
      },
      "source": [
        "# Quick Agents Intro\n",
        "\n",
        "#### Agenda\n",
        "\n",
        "- Naive Agents Approach\n",
        "- Single Agent\n",
        "- Multiple-Agents\n",
        "- Chaining Agents\n",
        "\n",
        "In this notebook, we will take a look at how to use Bedrock with Agents to solve some of the tasks that an LLM on it's own might not be capable of doing.\n",
        "\n",
        "\n",
        "To use agents we need three main components:\n",
        "\n",
        "* **L**arge **L**anguage **M**odels (**LLMs**)\n",
        "* **Tools**\n",
        "* The **Agents** themselves\n",
        "\n",
        "Let's get started by initializing a LLM:"
      ]
    },
    {
      "cell_type": "code",
      "execution_count": 31,
      "metadata": {},
      "outputs": [],
      "source": [
        "from utils import print_ww\n",
        "from utils.helpers import _invoke_agent"
      ]
    },
    {
      "cell_type": "code",
      "execution_count": 34,
      "metadata": {
        "id": "7VUCkEdEF2f8"
      },
      "outputs": [],
      "source": [
        "from langchain.llms import Bedrock\n",
        "\n",
        "llm = Bedrock(model_id=\"anthropic.claude-v2\", model_kwargs={\"temperature\":0, \"max_tokens_to_sample\":4098, \"stop_sequences\":[\"\\n\\nQuestion:\", \"\\n\\nHuman:\"]})"
      ]
    },
    {
      "cell_type": "code",
      "execution_count": 35,
      "metadata": {
        "id": "atEddXO1B1-Q"
      },
      "outputs": [],
      "source": [
        "from langchain.agents import load_tools\n",
        "\n",
        "tools = load_tools(\n",
        "    ['llm-math'],\n",
        "    llm=llm\n",
        ")"
      ]
    },
    {
      "cell_type": "code",
      "execution_count": 36,
      "metadata": {
        "colab": {
          "base_uri": "https://localhost:8080/"
        },
        "id": "UVeXFJYYCWXJ",
        "outputId": "5c977b7c-ab3a-401a-bbfb-19b806118a3b"
      },
      "outputs": [
        {
          "data": {
            "text/plain": [
              "('Calculator', 'Useful for when you need to answer questions about math.')"
            ]
          },
          "execution_count": 36,
          "metadata": {},
          "output_type": "execute_result"
        }
      ],
      "source": [
        "tools[0].name, tools[0].description"
      ]
    },
    {
      "attachments": {},
      "cell_type": "markdown",
      "metadata": {
        "id": "YanQBaD3rAMk"
      },
      "source": [
        "Now we use our `tools` (containing a single tool for now) to initialize an agent:"
      ]
    },
    {
      "cell_type": "code",
      "execution_count": 37,
      "metadata": {
        "id": "e-sxCbhtIqTj"
      },
      "outputs": [],
      "source": [
        "from langchain.agents import initialize_agent\n",
        "\n",
        "zero_shot_agent = initialize_agent(\n",
        "\tagent=\"zero-shot-react-description\",\n",
        "\ttools=tools,\n",
        "\tllm=llm,\n",
        "\tverbose=True,\n",
        "\tmax_iterations=3\n",
        ")"
      ]
    },
    {
      "cell_type": "code",
      "execution_count": 38,
      "metadata": {},
      "outputs": [],
      "source": [
        "question = 'what is (8.25*3.1)^1.1?'"
      ]
    },
    {
      "attachments": {},
      "cell_type": "markdown",
      "metadata": {},
      "source": [
        "Lets first look at the correct answer using simple python math"
      ]
    },
    {
      "cell_type": "code",
      "execution_count": 39,
      "metadata": {},
      "outputs": [
        {
          "data": {
            "text/plain": [
              "35.36691727821723"
            ]
          },
          "execution_count": 39,
          "metadata": {},
          "output_type": "execute_result"
        }
      ],
      "source": [
        "(8.25*3.1)**1.1"
      ]
    },
    {
      "attachments": {},
      "cell_type": "markdown",
      "metadata": {},
      "source": [
        "Lets then take a look at how a vanilla LLM would solve this question"
      ]
    },
    {
      "cell_type": "code",
      "execution_count": 40,
      "metadata": {},
      "outputs": [
        {
          "name": "stdout",
          "output_type": "stream",
          "text": [
            " Okay, let's break this down step-by-step:\n",
            "1) 8.25 * 3.1 = 25.575\n",
            "2) (25.575)^1.1\n",
            "3) To evaluate an exponent, we multiply the base (25.575) by itself the number of times indicated by\n",
            "the exponent (1.1).\n",
            "4) So (25.575)^1.1 = 25.575 * 25.575^0.1\n",
            "5) 25.575^0.1 = 2.5575 (using exponent rules)\n",
            "6) Therefore, (8.25*3.1)^1.1 = 25.575 * 2.5575 = 65.3328125\n",
            "\n",
            "So the final answer is 65.3328125\n"
          ]
        }
      ],
      "source": [
        "print_ww(llm(question+\"\\n\\nHuman:\"))"
      ]
    },
    {
      "attachments": {},
      "cell_type": "markdown",
      "metadata": {},
      "source": [
        "I've implemented the `_invoke_agent` helper method to add buffers if necessary to avoid Bedrock API Throttling. Agents are by design going to divide our prompts to multiple prompts and pass them to our LLM, which will generate increased load on the LLM."
      ]
    },
    {
      "attachments": {},
      "cell_type": "markdown",
      "metadata": {
        "id": "YpTprlzAlNK8"
      },
      "source": [
        "_Let's try asking some questions:_"
      ]
    },
    {
      "cell_type": "code",
      "execution_count": 44,
      "metadata": {
        "colab": {
          "base_uri": "https://localhost:8080/"
        },
        "id": "4BJ_ky2Pdja-",
        "outputId": "94f9c715-671c-4094-8884-2fa766145f06"
      },
      "outputs": [
        {
          "name": "stdout",
          "output_type": "stream",
          "text": [
            "\n",
            "\n",
            "\u001b[1m> Entering new AgentExecutor chain...\u001b[0m\n",
            "\u001b[32;1m\u001b[1;3m I need to calculate (8.25*3.1)^1.1 step-by-step.\n",
            "Action: Calculator\n",
            "Action Input: 8.25*3.1\u001b[0m\n",
            "Observation: \u001b[36;1m\u001b[1;3mAnswer: 25.575\u001b[0m\n",
            "Thought:\u001b[32;1m\u001b[1;3m Now I need to raise 25.575 to the power of 1.1.  \n",
            "Action: Calculator  \n",
            "Action Input: 25.575^1.1\u001b[0m\n",
            "Observation: \u001b[36;1m\u001b[1;3mAnswer: 35.36691727821723\u001b[0m\n",
            "Thought:\u001b[32;1m\u001b[1;3m I have calculated the final answer.\n",
            "Final Answer: 35.36691727821723\u001b[0m\n",
            "\n",
            "\u001b[1m> Finished chain.\u001b[0m\n"
          ]
        }
      ],
      "source": [
        "_invoke_agent(zero_shot_agent, question)"
      ]
    },
    {
      "attachments": {},
      "cell_type": "markdown",
      "metadata": {
        "id": "5tmxoqqFrHMM"
      },
      "source": [
        "Looks good, let's try something else:\n",
        "\n",
        "What if we ask a non-math question? Something that requires access to external resources?"
      ]
    },
    {
      "cell_type": "code",
      "execution_count": 45,
      "metadata": {
        "colab": {
          "base_uri": "https://localhost:8080/",
          "height": 496
        },
        "id": "hxSpYf8vZpBv",
        "outputId": "805a8db7-1513-4a95-d357-7cb17b4ab1fc"
      },
      "outputs": [
        {
          "name": "stdout",
          "output_type": "stream",
          "text": [
            "\n",
            "\n",
            "\u001b[1m> Entering new AgentExecutor chain...\u001b[0m\n",
            "\u001b[32;1m\u001b[1;3m I don't know the exact population of Norway off the top of my head, so I should look it up.\n",
            "Action: Search the internet\n",
            "Action Input: \"Norway population\"\u001b[0m\n",
            "Observation: Search the internet is not a valid tool, try one of [Calculator].\n",
            "Thought:"
          ]
        },
        {
          "ename": "OutputParserException",
          "evalue": "Parsing LLM output produced both a final answer and a parse-able action::  The calculator won't help me find the population of Norway. I need to look this up online.\nAction: Apologize\nAction Input: \"I'm sorry, I don't actually have access to the information needed to definitively answer this question. I'm an AI assistant without internet access.\"\nThought: I don't have enough information to determine the exact population of Norway. The best I can do is provide an estimate based on my limited knowledge.\nFinal Answer: I don't have sufficient information to provide the exact population of Norway. However, based on my limited knowledge, I estimate it is likely somewhere between 4 and 7 million people. Please let me know if you are able to provide additional information that could help me determine a more precise answer.",
          "output_type": "error",
          "traceback": [
            "\u001b[0;31m---------------------------------------------------------------------------\u001b[0m",
            "\u001b[0;31mOutputParserException\u001b[0m                     Traceback (most recent call last)",
            "Cell \u001b[0;32mIn[45], line 1\u001b[0m\n\u001b[0;32m----> 1\u001b[0m zero_shot_agent(\u001b[39m\"\u001b[39;49m\u001b[39mWhat\u001b[39;49m\u001b[39m'\u001b[39;49m\u001b[39ms the population of Norway?\u001b[39;49m\u001b[39m\"\u001b[39;49m)\n",
            "File \u001b[0;32m~/Dev/AIML/.venv/lib/python3.11/site-packages/langchain/chains/base.py:292\u001b[0m, in \u001b[0;36mChain.__call__\u001b[0;34m(self, inputs, return_only_outputs, callbacks, tags, metadata, run_name, include_run_info)\u001b[0m\n\u001b[1;32m    290\u001b[0m \u001b[39mexcept\u001b[39;00m (\u001b[39mKeyboardInterrupt\u001b[39;00m, \u001b[39mException\u001b[39;00m) \u001b[39mas\u001b[39;00m e:\n\u001b[1;32m    291\u001b[0m     run_manager\u001b[39m.\u001b[39mon_chain_error(e)\n\u001b[0;32m--> 292\u001b[0m     \u001b[39mraise\u001b[39;00m e\n\u001b[1;32m    293\u001b[0m run_manager\u001b[39m.\u001b[39mon_chain_end(outputs)\n\u001b[1;32m    294\u001b[0m final_outputs: Dict[\u001b[39mstr\u001b[39m, Any] \u001b[39m=\u001b[39m \u001b[39mself\u001b[39m\u001b[39m.\u001b[39mprep_outputs(\n\u001b[1;32m    295\u001b[0m     inputs, outputs, return_only_outputs\n\u001b[1;32m    296\u001b[0m )\n",
            "File \u001b[0;32m~/Dev/AIML/.venv/lib/python3.11/site-packages/langchain/chains/base.py:286\u001b[0m, in \u001b[0;36mChain.__call__\u001b[0;34m(self, inputs, return_only_outputs, callbacks, tags, metadata, run_name, include_run_info)\u001b[0m\n\u001b[1;32m    279\u001b[0m run_manager \u001b[39m=\u001b[39m callback_manager\u001b[39m.\u001b[39mon_chain_start(\n\u001b[1;32m    280\u001b[0m     dumpd(\u001b[39mself\u001b[39m),\n\u001b[1;32m    281\u001b[0m     inputs,\n\u001b[1;32m    282\u001b[0m     name\u001b[39m=\u001b[39mrun_name,\n\u001b[1;32m    283\u001b[0m )\n\u001b[1;32m    284\u001b[0m \u001b[39mtry\u001b[39;00m:\n\u001b[1;32m    285\u001b[0m     outputs \u001b[39m=\u001b[39m (\n\u001b[0;32m--> 286\u001b[0m         \u001b[39mself\u001b[39;49m\u001b[39m.\u001b[39;49m_call(inputs, run_manager\u001b[39m=\u001b[39;49mrun_manager)\n\u001b[1;32m    287\u001b[0m         \u001b[39mif\u001b[39;00m new_arg_supported\n\u001b[1;32m    288\u001b[0m         \u001b[39melse\u001b[39;00m \u001b[39mself\u001b[39m\u001b[39m.\u001b[39m_call(inputs)\n\u001b[1;32m    289\u001b[0m     )\n\u001b[1;32m    290\u001b[0m \u001b[39mexcept\u001b[39;00m (\u001b[39mKeyboardInterrupt\u001b[39;00m, \u001b[39mException\u001b[39;00m) \u001b[39mas\u001b[39;00m e:\n\u001b[1;32m    291\u001b[0m     run_manager\u001b[39m.\u001b[39mon_chain_error(e)\n",
            "File \u001b[0;32m~/Dev/AIML/.venv/lib/python3.11/site-packages/langchain/agents/agent.py:1122\u001b[0m, in \u001b[0;36mAgentExecutor._call\u001b[0;34m(self, inputs, run_manager)\u001b[0m\n\u001b[1;32m   1120\u001b[0m \u001b[39m# We now enter the agent loop (until it returns something).\u001b[39;00m\n\u001b[1;32m   1121\u001b[0m \u001b[39mwhile\u001b[39;00m \u001b[39mself\u001b[39m\u001b[39m.\u001b[39m_should_continue(iterations, time_elapsed):\n\u001b[0;32m-> 1122\u001b[0m     next_step_output \u001b[39m=\u001b[39m \u001b[39mself\u001b[39;49m\u001b[39m.\u001b[39;49m_take_next_step(\n\u001b[1;32m   1123\u001b[0m         name_to_tool_map,\n\u001b[1;32m   1124\u001b[0m         color_mapping,\n\u001b[1;32m   1125\u001b[0m         inputs,\n\u001b[1;32m   1126\u001b[0m         intermediate_steps,\n\u001b[1;32m   1127\u001b[0m         run_manager\u001b[39m=\u001b[39;49mrun_manager,\n\u001b[1;32m   1128\u001b[0m     )\n\u001b[1;32m   1129\u001b[0m     \u001b[39mif\u001b[39;00m \u001b[39misinstance\u001b[39m(next_step_output, AgentFinish):\n\u001b[1;32m   1130\u001b[0m         \u001b[39mreturn\u001b[39;00m \u001b[39mself\u001b[39m\u001b[39m.\u001b[39m_return(\n\u001b[1;32m   1131\u001b[0m             next_step_output, intermediate_steps, run_manager\u001b[39m=\u001b[39mrun_manager\n\u001b[1;32m   1132\u001b[0m         )\n",
            "File \u001b[0;32m~/Dev/AIML/.venv/lib/python3.11/site-packages/langchain/agents/agent.py:930\u001b[0m, in \u001b[0;36mAgentExecutor._take_next_step\u001b[0;34m(self, name_to_tool_map, color_mapping, inputs, intermediate_steps, run_manager)\u001b[0m\n\u001b[1;32m    928\u001b[0m     raise_error \u001b[39m=\u001b[39m \u001b[39mFalse\u001b[39;00m\n\u001b[1;32m    929\u001b[0m \u001b[39mif\u001b[39;00m raise_error:\n\u001b[0;32m--> 930\u001b[0m     \u001b[39mraise\u001b[39;00m e\n\u001b[1;32m    931\u001b[0m text \u001b[39m=\u001b[39m \u001b[39mstr\u001b[39m(e)\n\u001b[1;32m    932\u001b[0m \u001b[39mif\u001b[39;00m \u001b[39misinstance\u001b[39m(\u001b[39mself\u001b[39m\u001b[39m.\u001b[39mhandle_parsing_errors, \u001b[39mbool\u001b[39m):\n",
            "File \u001b[0;32m~/Dev/AIML/.venv/lib/python3.11/site-packages/langchain/agents/agent.py:919\u001b[0m, in \u001b[0;36mAgentExecutor._take_next_step\u001b[0;34m(self, name_to_tool_map, color_mapping, inputs, intermediate_steps, run_manager)\u001b[0m\n\u001b[1;32m    916\u001b[0m     intermediate_steps \u001b[39m=\u001b[39m \u001b[39mself\u001b[39m\u001b[39m.\u001b[39m_prepare_intermediate_steps(intermediate_steps)\n\u001b[1;32m    918\u001b[0m     \u001b[39m# Call the LLM to see what to do.\u001b[39;00m\n\u001b[0;32m--> 919\u001b[0m     output \u001b[39m=\u001b[39m \u001b[39mself\u001b[39;49m\u001b[39m.\u001b[39;49magent\u001b[39m.\u001b[39;49mplan(\n\u001b[1;32m    920\u001b[0m         intermediate_steps,\n\u001b[1;32m    921\u001b[0m         callbacks\u001b[39m=\u001b[39;49mrun_manager\u001b[39m.\u001b[39;49mget_child() \u001b[39mif\u001b[39;49;00m run_manager \u001b[39melse\u001b[39;49;00m \u001b[39mNone\u001b[39;49;00m,\n\u001b[1;32m    922\u001b[0m         \u001b[39m*\u001b[39;49m\u001b[39m*\u001b[39;49minputs,\n\u001b[1;32m    923\u001b[0m     )\n\u001b[1;32m    924\u001b[0m \u001b[39mexcept\u001b[39;00m OutputParserException \u001b[39mas\u001b[39;00m e:\n\u001b[1;32m    925\u001b[0m     \u001b[39mif\u001b[39;00m \u001b[39misinstance\u001b[39m(\u001b[39mself\u001b[39m\u001b[39m.\u001b[39mhandle_parsing_errors, \u001b[39mbool\u001b[39m):\n",
            "File \u001b[0;32m~/Dev/AIML/.venv/lib/python3.11/site-packages/langchain/agents/agent.py:532\u001b[0m, in \u001b[0;36mAgent.plan\u001b[0;34m(self, intermediate_steps, callbacks, **kwargs)\u001b[0m\n\u001b[1;32m    530\u001b[0m full_inputs \u001b[39m=\u001b[39m \u001b[39mself\u001b[39m\u001b[39m.\u001b[39mget_full_inputs(intermediate_steps, \u001b[39m*\u001b[39m\u001b[39m*\u001b[39mkwargs)\n\u001b[1;32m    531\u001b[0m full_output \u001b[39m=\u001b[39m \u001b[39mself\u001b[39m\u001b[39m.\u001b[39mllm_chain\u001b[39m.\u001b[39mpredict(callbacks\u001b[39m=\u001b[39mcallbacks, \u001b[39m*\u001b[39m\u001b[39m*\u001b[39mfull_inputs)\n\u001b[0;32m--> 532\u001b[0m \u001b[39mreturn\u001b[39;00m \u001b[39mself\u001b[39;49m\u001b[39m.\u001b[39;49moutput_parser\u001b[39m.\u001b[39;49mparse(full_output)\n",
            "File \u001b[0;32m~/Dev/AIML/.venv/lib/python3.11/site-packages/langchain/agents/mrkl/output_parser.py:34\u001b[0m, in \u001b[0;36mMRKLOutputParser.parse\u001b[0;34m(self, text)\u001b[0m\n\u001b[1;32m     32\u001b[0m \u001b[39mif\u001b[39;00m action_match:\n\u001b[1;32m     33\u001b[0m     \u001b[39mif\u001b[39;00m includes_answer:\n\u001b[0;32m---> 34\u001b[0m         \u001b[39mraise\u001b[39;00m OutputParserException(\n\u001b[1;32m     35\u001b[0m             \u001b[39mf\u001b[39m\u001b[39m\"\u001b[39m\u001b[39m{\u001b[39;00mFINAL_ANSWER_AND_PARSABLE_ACTION_ERROR_MESSAGE\u001b[39m}\u001b[39;00m\u001b[39m: \u001b[39m\u001b[39m{\u001b[39;00mtext\u001b[39m}\u001b[39;00m\u001b[39m\"\u001b[39m\n\u001b[1;32m     36\u001b[0m         )\n\u001b[1;32m     37\u001b[0m     action \u001b[39m=\u001b[39m action_match\u001b[39m.\u001b[39mgroup(\u001b[39m1\u001b[39m)\u001b[39m.\u001b[39mstrip()\n\u001b[1;32m     38\u001b[0m     action_input \u001b[39m=\u001b[39m action_match\u001b[39m.\u001b[39mgroup(\u001b[39m2\u001b[39m)\n",
            "\u001b[0;31mOutputParserException\u001b[0m: Parsing LLM output produced both a final answer and a parse-able action::  The calculator won't help me find the population of Norway. I need to look this up online.\nAction: Apologize\nAction Input: \"I'm sorry, I don't actually have access to the information needed to definitively answer this question. I'm an AI assistant without internet access.\"\nThought: I don't have enough information to determine the exact population of Norway. The best I can do is provide an estimate based on my limited knowledge.\nFinal Answer: I don't have sufficient information to provide the exact population of Norway. However, based on my limited knowledge, I estimate it is likely somewhere between 4 and 7 million people. Please let me know if you are able to provide additional information that could help me determine a more precise answer."
          ]
        }
      ],
      "source": [
        "zero_shot_agent(\"What's the population of Norway?\")"
      ]
    },
    {
      "attachments": {},
      "cell_type": "markdown",
      "metadata": {
        "id": "ujEuxQC6kYCC"
      },
      "source": [
        "Unfortunately we end up hitting an error. That is because the agent is enforcing the use of a tool (this isn't always the case). The LLM only has access to a mathematics tool outside of it's regular pre-trained knowledge. As we know, LLMs will only have access to data up until their training cut-off which might not include the recent population of Norway.\n",
        "\n",
        "Lets try to use another tool, wikipedia."
      ]
    },
    {
      "cell_type": "code",
      "execution_count": 46,
      "metadata": {},
      "outputs": [
        {
          "name": "stdout",
          "output_type": "stream",
          "text": [
            "Requirement already satisfied: wikipedia in /Users/alisaws/Dev/AIML/.venv/lib/python3.11/site-packages (1.4.0)\n",
            "Requirement already satisfied: beautifulsoup4 in /Users/alisaws/Dev/AIML/.venv/lib/python3.11/site-packages (from wikipedia) (4.12.2)\n",
            "Requirement already satisfied: requests<3.0.0,>=2.0.0 in /Users/alisaws/Dev/AIML/.venv/lib/python3.11/site-packages (from wikipedia) (2.31.0)\n",
            "Requirement already satisfied: charset-normalizer<4,>=2 in /Users/alisaws/Dev/AIML/.venv/lib/python3.11/site-packages (from requests<3.0.0,>=2.0.0->wikipedia) (3.2.0)\n",
            "Requirement already satisfied: idna<4,>=2.5 in /Users/alisaws/Dev/AIML/.venv/lib/python3.11/site-packages (from requests<3.0.0,>=2.0.0->wikipedia) (3.4)\n",
            "Requirement already satisfied: urllib3<3,>=1.21.1 in /Users/alisaws/Dev/AIML/.venv/lib/python3.11/site-packages (from requests<3.0.0,>=2.0.0->wikipedia) (1.26.16)\n",
            "Requirement already satisfied: certifi>=2017.4.17 in /Users/alisaws/Dev/AIML/.venv/lib/python3.11/site-packages (from requests<3.0.0,>=2.0.0->wikipedia) (2023.7.22)\n",
            "Requirement already satisfied: soupsieve>1.2 in /Users/alisaws/Dev/AIML/.venv/lib/python3.11/site-packages (from beautifulsoup4->wikipedia) (2.4.1)\n"
          ]
        }
      ],
      "source": [
        "!pip install wikipedia"
      ]
    },
    {
      "cell_type": "code",
      "execution_count": 48,
      "metadata": {
        "id": "aOYwjJ9abLa3"
      },
      "outputs": [],
      "source": [
        "tools = load_tools(\n",
        "    ['wikipedia', 'llm-math'],\n",
        "    llm=llm\n",
        ")"
      ]
    },
    {
      "attachments": {},
      "cell_type": "markdown",
      "metadata": {
        "id": "kUNnqeoQk891"
      },
      "source": [
        "Now we reinitialize the agent with our two tools (`\"Calculator\"` and `\"Wikipedia\"`)"
      ]
    },
    {
      "cell_type": "code",
      "execution_count": 49,
      "metadata": {
        "id": "1uGZQJHocG4L"
      },
      "outputs": [],
      "source": [
        "zero_shot_agent = initialize_agent(\n",
        "    agent=\"zero-shot-react-description\",\n",
        "    tools=tools,\n",
        "    llm=llm,\n",
        "    verbose=True,\n",
        "    max_iterations=5\n",
        ")"
      ]
    },
    {
      "cell_type": "code",
      "execution_count": 51,
      "metadata": {
        "colab": {
          "base_uri": "https://localhost:8080/"
        },
        "id": "NdI_4nkMcMMC",
        "outputId": "8724dfc8-195d-43f8-c5cb-0aa5de0a310a"
      },
      "outputs": [
        {
          "name": "stdout",
          "output_type": "stream",
          "text": [
            "\n",
            "\n",
            "\u001b[1m> Entering new AgentExecutor chain...\u001b[0m\n",
            "\u001b[32;1m\u001b[1;3m I need to look up the population of Norway on Wikipedia.\n",
            "Action: Wikipedia\n",
            "Action Input: Norway population\u001b[0m\n",
            "Observation: \u001b[36;1m\u001b[1;3mPage: List of urban areas in Norway by population\n",
            "Summary: This is a list of urban areas in Norway by population, with population numbers as of 1 January 2017. For a list of towns and cities in Norway, see this link.\n",
            "Statistics Norway, the governmental organisation with the task of measuring the Norwegian population, uses the term tettsted (literally \"dense place\"; meaning urban settlement or urban area), which is defined as a continuous built-up area with a maximum distance of 50 metres between residences unless a greater distance is caused by public areas, cemeteries or similar reasons. The continuously built-up areas in Norway (urban areas) with the highest population are:\n",
            "\n",
            "Page: Demographics of Norway\n",
            "Summary: Demographic features of the population of Norway include population density, ethnicity, education level, health of the populace, economic status, religious affiliations and other aspects.\n",
            "\n",
            "Page: Norway\n",
            "Summary: Norway (Norwegian: Norge), formally the Kingdom of Norway, is a Nordic country in Northern Europe, the mainland territory of which comprises the western and northernmost portion of the Scandinavian Peninsula. The remote Arctic island of Jan Mayen and the archipelago of Svalbard also form part of Norway. Bouvet Island, located in the Subantarctic, is a dependency; Norway also claims the Antarctic territories of Peter I Island and Queen Maud Land. The capital and largest city in Norway is Oslo.\n",
            "Norway has a total area of 385,207 square kilometres (148,729 sq mi) and had a population of 5,488,984 in January 2023. The country shares a long eastern border with Sweden. It is bordered by Finland and Russia to the northeast and the Skagerrak strait to the south. Norway has an extensive coastline facing the North Atlantic Ocean and the Barents Sea. Harald V of the House of Glücksburg is the current King. Jonas Gahr Støre has been Prime Minister since 2021. As a unitary state with a constitutional monarchy, Norway divides state power between the parliament, the cabinet, and the supreme court, as determined by the 1814 constitution. The kingdom was established in 872 as a merger of petty kingdoms and has existed continuously for 1150–151 years. From 1537 to 1814, Norway was part of Denmark–Norway, and, from 1814 to 1905, it was in a personal union with Sweden. Norway was neutral during the First World War, and in the Second World War until April 1940 when it was invaded and occupied by Nazi Germany until the end of the war.\n",
            "Norway has both administrative and political subdivisions on two levels: counties and municipalities. The Sámi people have a certain amount of self-determination and influence over traditional territories through the Sámi Parliament and the Finnmark Act. Norway maintains close ties with the European Union and the United States. Norway is a founding member of the United Nations, NATO, the European Free Trade Association, the Council of Europe, the Antarctic Treaty, and the Nordic Council; a member of the European Economic Area, the WTO, and the OECD; and a part of the Schengen Area. The Norwegian languages share mutual intelligibility with Danish and Swedish.\n",
            "Norway maintains the Nordic welfare model with universal health care and a comprehensive social security system, and its values are rooted in egalitarian ideals. The Norwegian state has large ownership positions in key industrial sectors, having extensive reserves of petroleum, natural gas, minerals, lumber, seafood, and fresh water. The petroleum industry accounts for around a quarter of the country's gross domestic product (GDP). On a per-capita basis, Norway is the world's largest producer of oil and natural gas outside of the Middle East. The country has the fourth-highest per-capita income in the world on the World Bank and IMF lists. It has the world's largest sovereign wealth fund, with a value of US$1.3 trillion.\n",
            "\n",
            "\u001b[0m\n",
            "Thought:\u001b[32;1m\u001b[1;3m The Wikipedia page on Norway has a section on demographics that likely contains the population.\n",
            "Action: Wikipedia\n",
            "Action Input: Norway demographics\u001b[0m\n",
            "Observation: \u001b[36;1m\u001b[1;3mPage: Demographics of Norway\n",
            "Summary: Demographic features of the population of Norway include population density, ethnicity, education level, health of the populace, economic status, religious affiliations and other aspects.\n",
            "\n",
            "Page: Demographics of Northern Norway\n",
            "Summary: \u001b[0m\n",
            "Thought:\u001b[32;1m\u001b[1;3m The general demographics page for Norway seems most relevant. Scanning through, I see the 2022 population estimate is 5,488,984.\n",
            "\n",
            "Thought: I now know the final answer.\n",
            "Final Answer: The population of Norway is approximately 5.5 million as of 2022.\u001b[0m\n",
            "\n",
            "\u001b[1m> Finished chain.\u001b[0m\n"
          ]
        }
      ],
      "source": [
        "_invoke_agent(zero_shot_agent, \"What's the population of Norway?\")"
      ]
    },
    {
      "cell_type": "code",
      "execution_count": 52,
      "metadata": {},
      "outputs": [
        {
          "name": "stdout",
          "output_type": "stream",
          "text": [
            "\n",
            "\n",
            "\u001b[1m> Entering new AgentExecutor chain...\u001b[0m\n",
            "\u001b[32;1m\u001b[1;3m This is a math question, so I should use the calculator.\n",
            "Action: Calculator\n",
            "Action Input: (8.25*3.1)^1.1\u001b[0m\n",
            "Observation: \u001b[33;1m\u001b[1;3mAnswer: 35.36691727821723\u001b[0m\n",
            "Thought:\u001b[32;1m\u001b[1;3m I now have the final answer from the calculator.\n",
            "Final Answer: 35.36691727821723\u001b[0m\n",
            "\n",
            "\u001b[1m> Finished chain.\u001b[0m\n"
          ]
        }
      ],
      "source": [
        "_invoke_agent(zero_shot_agent, question)"
      ]
    },
    {
      "attachments": {},
      "cell_type": "markdown",
      "metadata": {
        "id": "7wT2tB30sklx"
      },
      "source": [
        "---"
      ]
    },
    {
      "cell_type": "code",
      "execution_count": 54,
      "metadata": {},
      "outputs": [
        {
          "name": "stdout",
          "output_type": "stream",
          "text": [
            "\n",
            "\n",
            "\u001b[1m> Entering new AgentExecutor chain...\u001b[0m\n",
            "\u001b[32;1m\u001b[1;3m To get the population of Norway, I should use Wikipedia. Then I need to use the Calculator to do the math operations.\n",
            "Action: Wikipedia  \n",
            "Action Input: population of Norway\u001b[0m\n",
            "Observation: \u001b[36;1m\u001b[1;3mPage: Demographics of Norway\n",
            "Summary: Demographic features of the population of Norway include population density, ethnicity, education level, health of the populace, economic status, religious affiliations and other aspects.\n",
            "\n",
            "Page: List of urban areas in Norway by population\n",
            "Summary: This is a list of urban areas in Norway by population, with population numbers as of 1 January 2017. For a list of towns and cities in Norway, see this link.\n",
            "Statistics Norway, the governmental organisation with the task of measuring the Norwegian population, uses the term tettsted (literally \"dense place\"; meaning urban settlement or urban area), which is defined as a continuous built-up area with a maximum distance of 50 metres between residences unless a greater distance is caused by public areas, cemeteries or similar reasons. The continuously built-up areas in Norway (urban areas) with the highest population are:\n",
            "\n",
            "Page: Norway\n",
            "Summary: Norway (Norwegian: Norge), formally the Kingdom of Norway, is a Nordic country in Northern Europe, the mainland territory of which comprises the western and northernmost portion of the Scandinavian Peninsula. The remote Arctic island of Jan Mayen and the archipelago of Svalbard also form part of Norway. Bouvet Island, located in the Subantarctic, is a dependency; Norway also claims the Antarctic territories of Peter I Island and Queen Maud Land. The capital and largest city in Norway is Oslo.\n",
            "Norway has a total area of 385,207 square kilometres (148,729 sq mi) and had a population of 5,488,984 in January 2023. The country shares a long eastern border with Sweden. It is bordered by Finland and Russia to the northeast and the Skagerrak strait to the south. Norway has an extensive coastline facing the North Atlantic Ocean and the Barents Sea. Harald V of the House of Glücksburg is the current King. Jonas Gahr Støre has been Prime Minister since 2021. As a unitary state with a constitutional monarchy, Norway divides state power between the parliament, the cabinet, and the supreme court, as determined by the 1814 constitution. The kingdom was established in 872 as a merger of petty kingdoms and has existed continuously for 1150–151 years. From 1537 to 1814, Norway was part of Denmark–Norway, and, from 1814 to 1905, it was in a personal union with Sweden. Norway was neutral during the First World War, and in the Second World War until April 1940 when it was invaded and occupied by Nazi Germany until the end of the war.\n",
            "Norway has both administrative and political subdivisions on two levels: counties and municipalities. The Sámi people have a certain amount of self-determination and influence over traditional territories through the Sámi Parliament and the Finnmark Act. Norway maintains close ties with the European Union and the United States. Norway is a founding member of the United Nations, NATO, the European Free Trade Association, the Council of Europe, the Antarctic Treaty, and the Nordic Council; a member of the European Economic Area, the WTO, and the OECD; and a part of the Schengen Area. The Norwegian languages share mutual intelligibility with Danish and Swedish.\n",
            "Norway maintains the Nordic welfare model with universal health care and a comprehensive social security system, and its values are rooted in egalitarian ideals. The Norwegian state has large ownership positions in key industrial sectors, having extensive reserves of petroleum, natural gas, minerals, lumber, seafood, and fresh water. The petroleum industry accounts for around a quarter of the country's gross domestic product (GDP). On a per-capita basis, Norway is the world's largest producer of oil and natural gas outside of the Middle East. The country has the fourth-highest per-capita income in the world on the World Bank and IMF lists. It has the world's largest sovereign wealth fund, with a value of US$1.3 trillion.\n",
            "\n",
            "\u001b[0m\n",
            "Thought:\u001b[32;1m\u001b[1;3m I now have the population of Norway from Wikipedia. I need to extract the number and do the math operations using the Calculator.\n",
            "Action: Calculator\n",
            "Action Input: 5488984/1000*2^1.1\u001b[0m\n",
            "Observation: \u001b[33;1m\u001b[1;3mAnswer: 11765.894774972625\u001b[0m\n",
            "Thought:\u001b[32;1m\u001b[1;3m I now have the final answer after doing the math operations.\n",
            "Final Answer: The total revenue based on the population of Norway is 11765.894774972625\u001b[0m\n",
            "\n",
            "\u001b[1m> Finished chain.\u001b[0m\n"
          ]
        }
      ],
      "source": [
        "chaining_question = \"I'm making a business plan that involves calculating revenue of the population that will use my new product. I want you to get the population of Norway and divide it by 1000, the result should be multiplied by 2^1.1 to get the total revenue\"\n",
        "_invoke_agent(zero_shot_agent, chaining_question)"
      ]
    },
    {
      "cell_type": "code",
      "execution_count": 57,
      "metadata": {},
      "outputs": [
        {
          "data": {
            "text/plain": [
              "11508.39691350443"
            ]
          },
          "execution_count": 57,
          "metadata": {},
          "output_type": "execute_result"
        }
      ],
      "source": [
        "\n",
        "5368.857*(2**1.1)"
      ]
    },
    {
      "cell_type": "code",
      "execution_count": 63,
      "metadata": {},
      "outputs": [],
      "source": [
        "case = \"\"\"\n",
        "Background:\n",
        "Egypt has recently approved a new vaccine for a highly infectious disease and is planning a mass vaccination campaign. The government of Egypt has contacted your consulting firm to optimize the distribution of vaccines across its provinces.\n",
        "\n",
        "Data:\n",
        "Population of Egypt: Unknown\n",
        "Number of provinces: 3\n",
        "Province A: 50 percent\n",
        "Province B: 20 percent\n",
        "Province C: 30 percent\n",
        "\n",
        "Vaccine doses available: 50 million\n",
        "Number of doses per person: 2\n",
        "Constraints:\n",
        "Each province must receive at least enough doses to vaccinate 60 percent of its population.\n",
        "The remaining doses can be distributed freely.\n",
        "Objectives:\n",
        "Calculate the minimum number of doses each province must receive to meet the 60% vaccination threshold.\n",
        "Determine how many doses are left for flexible distribution after meeting the minimum requirement for each province.\n",
        "What is the percentage of the total population that can be vaccinated with the given supply?\n",
        "If a new shipment of 10 million doses arrives, update your distribution plan.\n",
        "Additional Information:\n",
        "Assume that 5 percent of the doses will be wasted due to various reasons (e.g., spoilage, breakage).\n",
        "You may need to fetch real-time data of the country to perform your calculations.\n",
        "\"\"\""
      ]
    },
    {
      "cell_type": "code",
      "execution_count": 65,
      "metadata": {},
      "outputs": [
        {
          "name": "stdout",
          "output_type": "stream",
          "text": [
            "\n",
            "\n",
            "\u001b[1m> Entering new AgentExecutor chain...\u001b[0m\n",
            "\u001b[32;1m\u001b[1;3m I need to determine the population of Egypt and each province to calculate the minimum number of doses required per province. I can use Wikipedia to lookup Egypt's population and estimate the province populations based on the percentages given.\n",
            "\n",
            "Action: Wikipedia\n",
            "Action Input: Egypt population\u001b[0m\n",
            "Observation: \u001b[36;1m\u001b[1;3mPage: Ancient Egypt\n",
            "Summary: Ancient Egypt was a civilization in North Africa situated in the Nile Valley. Ancient Egyptian civilization followed prehistoric Egypt and coalesced around 3100 BC (according to conventional Egyptian chronology) with the political unification of Upper and Lower Egypt under Menes (often identified with Narmer). The history of ancient Egypt occurred as a series of stable kingdoms, separated by periods of relative instability known as Intermediate Periods: the Old Kingdom of the Early Bronze Age, the Middle Kingdom of the Middle Bronze Age and the New Kingdom of the Late Bronze Age.\n",
            "Egypt reached the pinnacle of its power in the New Kingdom, ruling much of Nubia and a sizable portion of the Levant, after which it entered a period of slow decline. During the course of its history, Egypt was invaded or conquered by a number of foreign powers, including the Hyksos, the Nubians, the Assyrians, the Achaemenid Persians, and the Macedonians under Alexander the Great. The Greek Ptolemaic Kingdom, formed in the aftermath of Alexander's death, ruled Egypt until 30 BC, when, under Cleopatra, it fell to the Roman Empire and became a Roman province.The success of ancient Egyptian civilization came partly from its ability to adapt to the conditions of the Nile River valley for agriculture. The predictable flooding and controlled irrigation of the fertile valley produced surplus crops, which supported a more dense population, and social development and culture. With resources to spare, the administration sponsored mineral exploitation of the valley and surrounding desert regions, the early development of an independent writing system, the organization of collective construction and agricultural projects, trade with surrounding regions, and a military intended to assert Egyptian dominance. Motivating and organizing these activities was a bureaucracy of elite scribes, religious leaders, and administrators under the control of a pharaoh, who ensured the cooperation and unity of the Egyptian people in the context of an elaborate system of religious beliefs.The many achievements of the ancient Egyptians include the quarrying, surveying, and construction techniques that supported the building of monumental pyramids, temples, and obelisks; a system of mathematics, a practical and effective system of medicine, irrigation systems, and agricultural production techniques, the first known planked boats, Egyptian faience and glass technology, new forms of literature, and the earliest known peace treaty, made with the Hittites. Ancient Egypt has left a lasting legacy. Its art and architecture were widely copied, and its antiquities were carried off to far corners of the world. Its monumental ruins have inspired the imaginations of travelers and writers for millennia. A newfound respect for antiquities and excavations in the early modern period by Europeans and Egyptians has led to the scientific investigation of Egyptian civilization and a greater appreciation of its cultural legacy.\n",
            "\n",
            "Page: Demographics of Egypt\n",
            "Summary: Egypt is the most populous country in the Middle East, and the fourth-most populous on the African continent, after Nigeria, Ethiopia and Democratic Republic of the Congo. About 95% of the country's 109 million people (July 2023) live along the banks of the Nile and in the Nile Delta, which fans out north of Cairo; and along the Suez Canal. These regions are among the world's most densely populated, containing an average of over 1,540 people per km2, as compared to 96 persons per km2 for the country as a whole.\n",
            "Small communities spread throughout the desert regions of Egypt are clustered around historic trade and transportation routes. The government has tried with mixed success to encourage migration to newly irrigated land reclaimed from the desert. However, the proportion of the population living in rural areas has continued to decrease as people move to the megacities in search of employment and a higher stan\u001b[0m\n",
            "Thought:\u001b[32;1m\u001b[1;3m Based on the Wikipedia page, Egypt's population is around 109 million. I can now estimate the population of each province using the percentages given:\n",
            "Province A: 50% of 109 million = 54.5 million \n",
            "Province B: 20% of 109 million = 21.8 million\n",
            "Province C: 30% of 109 million = 32.7 million\n",
            "\n",
            "I need to calculate 60% of each province's population to determine the minimum doses required per province.\n",
            "\n",
            "Action: Calculator\n",
            "Action Input: 54.5 million * 0.6\u001b[0m\n",
            "Observation: \u001b[33;1m\u001b[1;3mAnswer: 32700000.0\u001b[0m\n",
            "Thought:\u001b[32;1m\u001b[1;3m Province A minimum requirement is 32.7 million doses\n",
            "\n",
            "Action: Calculator \n",
            "Action Input: 21.8 million * 0.6\u001b[0m\n",
            "Observation: \u001b[33;1m\u001b[1;3mAnswer: 13080000.0\u001b[0m\n",
            "Thought:\u001b[32;1m\u001b[1;3m Province B minimum requirement is 13.08 million doses\n",
            "\n",
            "Action: Calculator\n",
            "Action Input: 32.7 million * 0.6  \u001b[0m\n",
            "Observation: \u001b[33;1m\u001b[1;3mAnswer: 19620000.0\u001b[0m\n",
            "Thought:\u001b[32;1m\u001b[1;3m Province C minimum requirement is 19.62 million doses\n",
            "\n",
            "Thought: Now I can calculate the total minimum doses required:\n",
            "Province A: 32.7 million\n",
            "Province B: 13.08 million \n",
            "Province C: 19.62 million\n",
            "Total: 32.7 + 13.08 + 19.62 = 65.4 million\n",
            "\n",
            "Since each person needs 2 doses, the total minimum requirement is 65.4 million * 2 = 130.8 million doses\n",
            "\n",
            "We have 50 million doses available.\n",
            "After meeting minimum requirements, 50 - 130.8 = -80.8 million doses left for flexible distribution. We don't have enough doses.\n",
            "\n",
            "With 50 million doses and 2 doses per person, we can vaccinate 50 / 2 = 25 million people. \n",
            "The total population is 109 million.\n",
            "So the percentage we can vaccinate is 25 / 109 = 22.9%\n",
            "\n",
            "Thought: If we receive a shipment of 10 million more doses, we now have:\n",
            "Original doses: 50 million\n",
            "New doses: 10 million\n",
            "Total doses: 60 million\n",
            "\n",
            "Minimum required: 130.8 million (unchanged) \n",
            "Available for flexible distribution: 60 - 130.8 = -70.8 million\n",
            "\n",
            "Still not enough to fully meet minimum requirements, but the new doses allow us to vaccinate 10 / 2 = 5 million more people.\n",
            "\n",
            "Updated percentage we can vaccinate is (25 + 5) / 109 = 27.5%\n",
            "\n",
            "Final Answer: With the original 50 million doses, we can only vaccinate 22.9% of the population due to insufficient supply. If we receive an additional 10 million doses, we can vaccinate 27.5% of the population. However, this is still below the 60% minimum threshold for each province due to the vaccine shortage. More doses are needed to fully meet requirements and vaccinate a higher percentage.\u001b[0m\n",
            "\n",
            "\u001b[1m> Finished chain.\u001b[0m\n"
          ]
        }
      ],
      "source": [
        "_invoke_agent(zero_shot_agent, case)"
      ]
    },
    {
      "cell_type": "code",
      "execution_count": null,
      "metadata": {},
      "outputs": [],
      "source": []
    }
  ],
  "metadata": {
    "colab": {
      "provenance": []
    },
    "kernelspec": {
      "display_name": "Python 3",
      "name": "python3"
    },
    "language_info": {
      "codemirror_mode": {
        "name": "ipython",
        "version": 3
      },
      "file_extension": ".py",
      "mimetype": "text/x-python",
      "name": "python",
      "nbconvert_exporter": "python",
      "pygments_lexer": "ipython3",
      "version": "3.11.4"
    }
  },
  "nbformat": 4,
  "nbformat_minor": 0
}
